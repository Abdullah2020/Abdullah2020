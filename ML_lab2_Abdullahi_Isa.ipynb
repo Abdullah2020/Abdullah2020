{
  "nbformat": 4,
  "nbformat_minor": 0,
  "metadata": {
    "colab": {
      "provenance": [],
      "collapsed_sections": [],
      "authorship_tag": "ABX9TyOZw2f9aaYYPNz5Mkz1aTtW",
      "include_colab_link": true
    },
    "kernelspec": {
      "name": "python3",
      "display_name": "Python 3"
    },
    "language_info": {
      "name": "python"
    }
  },
  "cells": [
    {
      "cell_type": "markdown",
      "metadata": {
        "id": "view-in-github",
        "colab_type": "text"
      },
      "source": [
        "<a href=\"https://colab.research.google.com/github/Abdullah2020/Abdullah2020/blob/master/ML_lab2_Abdullahi_Isa.ipynb\" target=\"_parent\"><img src=\"https://colab.research.google.com/assets/colab-badge.svg\" alt=\"Open In Colab\"/></a>"
      ]
    },
    {
      "cell_type": "markdown",
      "source": [
        "# **Part II : Practical application graded !**"
      ],
      "metadata": {
        "id": "-DeHCHKwPdaf"
      }
    },
    {
      "cell_type": "code",
      "execution_count": 1,
      "metadata": {
        "colab": {
          "base_uri": "https://localhost:8080/"
        },
        "id": "XVQL1N4HKZtb",
        "outputId": "965b2238-7498-4af4-e60b-1fbae56ecceb"
      },
      "outputs": [
        {
          "output_type": "stream",
          "name": "stdout",
          "text": [
            "Setup Completed...!!!\n"
          ]
        }
      ],
      "source": [
        "import pandas as pd\n",
        "import numpy as np\n",
        "import matplotlib.pyplot as plt\n",
        "\n",
        "print(\"Setup Completed...!!!\")"
      ]
    },
    {
      "cell_type": "code",
      "source": [
        "auto = pd.read_csv(\"/content/auto.txt\", sep=\";\")"
      ],
      "metadata": {
        "id": "7xlfHdfnKmFc"
      },
      "execution_count": 5,
      "outputs": []
    },
    {
      "cell_type": "code",
      "source": [
        "auto.head()"
      ],
      "metadata": {
        "colab": {
          "base_uri": "https://localhost:8080/",
          "height": 206
        },
        "id": "sL-CH_OzKmDB",
        "outputId": "a1ff7470-b443-4068-af41-e495fb850427"
      },
      "execution_count": 6,
      "outputs": [
        {
          "output_type": "execute_result",
          "data": {
            "text/plain": [
              "    mpg  cylinders  displacement  horsepower  weight  acceleration  year  \\\n",
              "0  18.0          8         307.0         130    3504          12.0    70   \n",
              "1  15.0          8         350.0         165    3693          11.5    70   \n",
              "2  18.0          8         318.0         150    3436          11.0    70   \n",
              "3  16.0          8         304.0         150    3433          12.0    70   \n",
              "4  17.0          8         302.0         140    3449          10.5    70   \n",
              "\n",
              "   origin                       name  \n",
              "0       1  chevrolet chevelle malibu  \n",
              "1       1          buick skylark 320  \n",
              "2       1         plymouth satellite  \n",
              "3       1              amc rebel sst  \n",
              "4       1                ford torino  "
            ],
            "text/html": [
              "\n",
              "  <div id=\"df-b6bbc8e6-d8aa-4b1d-b164-d54a8626c055\">\n",
              "    <div class=\"colab-df-container\">\n",
              "      <div>\n",
              "<style scoped>\n",
              "    .dataframe tbody tr th:only-of-type {\n",
              "        vertical-align: middle;\n",
              "    }\n",
              "\n",
              "    .dataframe tbody tr th {\n",
              "        vertical-align: top;\n",
              "    }\n",
              "\n",
              "    .dataframe thead th {\n",
              "        text-align: right;\n",
              "    }\n",
              "</style>\n",
              "<table border=\"1\" class=\"dataframe\">\n",
              "  <thead>\n",
              "    <tr style=\"text-align: right;\">\n",
              "      <th></th>\n",
              "      <th>mpg</th>\n",
              "      <th>cylinders</th>\n",
              "      <th>displacement</th>\n",
              "      <th>horsepower</th>\n",
              "      <th>weight</th>\n",
              "      <th>acceleration</th>\n",
              "      <th>year</th>\n",
              "      <th>origin</th>\n",
              "      <th>name</th>\n",
              "    </tr>\n",
              "  </thead>\n",
              "  <tbody>\n",
              "    <tr>\n",
              "      <th>0</th>\n",
              "      <td>18.0</td>\n",
              "      <td>8</td>\n",
              "      <td>307.0</td>\n",
              "      <td>130</td>\n",
              "      <td>3504</td>\n",
              "      <td>12.0</td>\n",
              "      <td>70</td>\n",
              "      <td>1</td>\n",
              "      <td>chevrolet chevelle malibu</td>\n",
              "    </tr>\n",
              "    <tr>\n",
              "      <th>1</th>\n",
              "      <td>15.0</td>\n",
              "      <td>8</td>\n",
              "      <td>350.0</td>\n",
              "      <td>165</td>\n",
              "      <td>3693</td>\n",
              "      <td>11.5</td>\n",
              "      <td>70</td>\n",
              "      <td>1</td>\n",
              "      <td>buick skylark 320</td>\n",
              "    </tr>\n",
              "    <tr>\n",
              "      <th>2</th>\n",
              "      <td>18.0</td>\n",
              "      <td>8</td>\n",
              "      <td>318.0</td>\n",
              "      <td>150</td>\n",
              "      <td>3436</td>\n",
              "      <td>11.0</td>\n",
              "      <td>70</td>\n",
              "      <td>1</td>\n",
              "      <td>plymouth satellite</td>\n",
              "    </tr>\n",
              "    <tr>\n",
              "      <th>3</th>\n",
              "      <td>16.0</td>\n",
              "      <td>8</td>\n",
              "      <td>304.0</td>\n",
              "      <td>150</td>\n",
              "      <td>3433</td>\n",
              "      <td>12.0</td>\n",
              "      <td>70</td>\n",
              "      <td>1</td>\n",
              "      <td>amc rebel sst</td>\n",
              "    </tr>\n",
              "    <tr>\n",
              "      <th>4</th>\n",
              "      <td>17.0</td>\n",
              "      <td>8</td>\n",
              "      <td>302.0</td>\n",
              "      <td>140</td>\n",
              "      <td>3449</td>\n",
              "      <td>10.5</td>\n",
              "      <td>70</td>\n",
              "      <td>1</td>\n",
              "      <td>ford torino</td>\n",
              "    </tr>\n",
              "  </tbody>\n",
              "</table>\n",
              "</div>\n",
              "      <button class=\"colab-df-convert\" onclick=\"convertToInteractive('df-b6bbc8e6-d8aa-4b1d-b164-d54a8626c055')\"\n",
              "              title=\"Convert this dataframe to an interactive table.\"\n",
              "              style=\"display:none;\">\n",
              "        \n",
              "  <svg xmlns=\"http://www.w3.org/2000/svg\" height=\"24px\"viewBox=\"0 0 24 24\"\n",
              "       width=\"24px\">\n",
              "    <path d=\"M0 0h24v24H0V0z\" fill=\"none\"/>\n",
              "    <path d=\"M18.56 5.44l.94 2.06.94-2.06 2.06-.94-2.06-.94-.94-2.06-.94 2.06-2.06.94zm-11 1L8.5 8.5l.94-2.06 2.06-.94-2.06-.94L8.5 2.5l-.94 2.06-2.06.94zm10 10l.94 2.06.94-2.06 2.06-.94-2.06-.94-.94-2.06-.94 2.06-2.06.94z\"/><path d=\"M17.41 7.96l-1.37-1.37c-.4-.4-.92-.59-1.43-.59-.52 0-1.04.2-1.43.59L10.3 9.45l-7.72 7.72c-.78.78-.78 2.05 0 2.83L4 21.41c.39.39.9.59 1.41.59.51 0 1.02-.2 1.41-.59l7.78-7.78 2.81-2.81c.8-.78.8-2.07 0-2.86zM5.41 20L4 18.59l7.72-7.72 1.47 1.35L5.41 20z\"/>\n",
              "  </svg>\n",
              "      </button>\n",
              "      \n",
              "  <style>\n",
              "    .colab-df-container {\n",
              "      display:flex;\n",
              "      flex-wrap:wrap;\n",
              "      gap: 12px;\n",
              "    }\n",
              "\n",
              "    .colab-df-convert {\n",
              "      background-color: #E8F0FE;\n",
              "      border: none;\n",
              "      border-radius: 50%;\n",
              "      cursor: pointer;\n",
              "      display: none;\n",
              "      fill: #1967D2;\n",
              "      height: 32px;\n",
              "      padding: 0 0 0 0;\n",
              "      width: 32px;\n",
              "    }\n",
              "\n",
              "    .colab-df-convert:hover {\n",
              "      background-color: #E2EBFA;\n",
              "      box-shadow: 0px 1px 2px rgba(60, 64, 67, 0.3), 0px 1px 3px 1px rgba(60, 64, 67, 0.15);\n",
              "      fill: #174EA6;\n",
              "    }\n",
              "\n",
              "    [theme=dark] .colab-df-convert {\n",
              "      background-color: #3B4455;\n",
              "      fill: #D2E3FC;\n",
              "    }\n",
              "\n",
              "    [theme=dark] .colab-df-convert:hover {\n",
              "      background-color: #434B5C;\n",
              "      box-shadow: 0px 1px 3px 1px rgba(0, 0, 0, 0.15);\n",
              "      filter: drop-shadow(0px 1px 2px rgba(0, 0, 0, 0.3));\n",
              "      fill: #FFFFFF;\n",
              "    }\n",
              "  </style>\n",
              "\n",
              "      <script>\n",
              "        const buttonEl =\n",
              "          document.querySelector('#df-b6bbc8e6-d8aa-4b1d-b164-d54a8626c055 button.colab-df-convert');\n",
              "        buttonEl.style.display =\n",
              "          google.colab.kernel.accessAllowed ? 'block' : 'none';\n",
              "\n",
              "        async function convertToInteractive(key) {\n",
              "          const element = document.querySelector('#df-b6bbc8e6-d8aa-4b1d-b164-d54a8626c055');\n",
              "          const dataTable =\n",
              "            await google.colab.kernel.invokeFunction('convertToInteractive',\n",
              "                                                     [key], {});\n",
              "          if (!dataTable) return;\n",
              "\n",
              "          const docLinkHtml = 'Like what you see? Visit the ' +\n",
              "            '<a target=\"_blank\" href=https://colab.research.google.com/notebooks/data_table.ipynb>data table notebook</a>'\n",
              "            + ' to learn more about interactive tables.';\n",
              "          element.innerHTML = '';\n",
              "          dataTable['output_type'] = 'display_data';\n",
              "          await google.colab.output.renderOutput(dataTable, element);\n",
              "          const docLink = document.createElement('div');\n",
              "          docLink.innerHTML = docLinkHtml;\n",
              "          element.appendChild(docLink);\n",
              "        }\n",
              "      </script>\n",
              "    </div>\n",
              "  </div>\n",
              "  "
            ]
          },
          "metadata": {},
          "execution_count": 6
        }
      ]
    },
    {
      "cell_type": "code",
      "source": [
        "auto.info()"
      ],
      "metadata": {
        "colab": {
          "base_uri": "https://localhost:8080/"
        },
        "id": "zif1f5HAPEjO",
        "outputId": "034f9c03-d447-4390-f2c3-c2962fb3b1bb"
      },
      "execution_count": 14,
      "outputs": [
        {
          "output_type": "stream",
          "name": "stdout",
          "text": [
            "<class 'pandas.core.frame.DataFrame'>\n",
            "RangeIndex: 300 entries, 0 to 299\n",
            "Data columns (total 10 columns):\n",
            " #   Column        Non-Null Count  Dtype  \n",
            "---  ------        --------------  -----  \n",
            " 0   mpg           300 non-null    float64\n",
            " 1   cylinders     300 non-null    int64  \n",
            " 2   displacement  300 non-null    float64\n",
            " 3   horsepower    300 non-null    int64  \n",
            " 4   weight        300 non-null    int64  \n",
            " 5   acceleration  300 non-null    float64\n",
            " 6   year          300 non-null    int64  \n",
            " 7   origin        300 non-null    int64  \n",
            " 8   name          300 non-null    object \n",
            " 9   mpg01         300 non-null    uint8  \n",
            "dtypes: float64(3), int64(5), object(1), uint8(1)\n",
            "memory usage: 21.5+ KB\n"
          ]
        }
      ]
    },
    {
      "cell_type": "markdown",
      "source": [
        "**Comment:**\n",
        "\n",
        "As shown from the above table, there are 10 columns in the auto dataset (index inclusive). One of the variable is categorical (labelled as 'object') while the remaining 9 are numerical (labelled as 'int64' or 'float64')."
      ],
      "metadata": {
        "id": "rVWyZbOCPHwW"
      }
    },
    {
      "cell_type": "markdown",
      "source": [
        "**2. Graded Question:**\n",
        "\n",
        "Create a binary variable, denoted mpg01, that is worth 1 if mpg contains a value above its\n",
        "median, and a 0 if mpg contains a value below its median. You can use the method median()\n",
        "and the function get_dummies(). Then, create a single data set containing both mpg01 and the\n",
        "other Auto variables."
      ],
      "metadata": {
        "id": "cZO9sfz3NvDa"
      }
    },
    {
      "cell_type": "code",
      "source": [
        "mpg_median = auto[\"mpg\"].median()\n",
        "mpg01 = pd.get_dummies(auto[\"mpg\"] > mpg_median, drop_first=True)\n",
        "\n",
        "auto[\"mpg01\"] = mpg01"
      ],
      "metadata": {
        "id": "kmBSmg2wKmAZ"
      },
      "execution_count": 7,
      "outputs": []
    },
    {
      "cell_type": "code",
      "source": [
        "auto.describe()"
      ],
      "metadata": {
        "colab": {
          "base_uri": "https://localhost:8080/",
          "height": 300
        },
        "id": "5npTHowUPAX_",
        "outputId": "ec74a43f-a439-4779-8a04-b9560b46744c"
      },
      "execution_count": 8,
      "outputs": [
        {
          "output_type": "execute_result",
          "data": {
            "text/plain": [
              "              mpg   cylinders  displacement  horsepower       weight  \\\n",
              "count  300.000000  300.000000    300.000000  300.000000   300.000000   \n",
              "mean    23.699333    5.433333    192.338333  104.050000  2945.846667   \n",
              "std      7.963814    1.717183    105.453661   38.959127   849.694403   \n",
              "min      9.000000    3.000000     68.000000   46.000000  1613.000000   \n",
              "25%     17.000000    4.000000     98.000000   75.000000  2212.500000   \n",
              "50%     23.600000    4.000000    140.000000   91.500000  2730.000000   \n",
              "75%     29.925000    8.000000    275.750000  129.000000  3526.250000   \n",
              "max     46.600000    8.000000    455.000000  230.000000  4997.000000   \n",
              "\n",
              "       acceleration       year      origin       mpg01  \n",
              "count    300.000000  300.00000  300.000000  300.000000  \n",
              "mean      15.460000   75.93000    1.616667    0.500000  \n",
              "std        2.729389    3.67015    0.827853    0.500835  \n",
              "min        8.000000   70.00000    1.000000    0.000000  \n",
              "25%       13.500000   73.00000    1.000000    0.000000  \n",
              "50%       15.400000   76.00000    1.000000    0.500000  \n",
              "75%       17.000000   79.00000    2.000000    1.000000  \n",
              "max       23.500000   82.00000    3.000000    1.000000  "
            ],
            "text/html": [
              "\n",
              "  <div id=\"df-5e62b0c6-7ed6-416f-8cea-9cb77e4d6138\">\n",
              "    <div class=\"colab-df-container\">\n",
              "      <div>\n",
              "<style scoped>\n",
              "    .dataframe tbody tr th:only-of-type {\n",
              "        vertical-align: middle;\n",
              "    }\n",
              "\n",
              "    .dataframe tbody tr th {\n",
              "        vertical-align: top;\n",
              "    }\n",
              "\n",
              "    .dataframe thead th {\n",
              "        text-align: right;\n",
              "    }\n",
              "</style>\n",
              "<table border=\"1\" class=\"dataframe\">\n",
              "  <thead>\n",
              "    <tr style=\"text-align: right;\">\n",
              "      <th></th>\n",
              "      <th>mpg</th>\n",
              "      <th>cylinders</th>\n",
              "      <th>displacement</th>\n",
              "      <th>horsepower</th>\n",
              "      <th>weight</th>\n",
              "      <th>acceleration</th>\n",
              "      <th>year</th>\n",
              "      <th>origin</th>\n",
              "      <th>mpg01</th>\n",
              "    </tr>\n",
              "  </thead>\n",
              "  <tbody>\n",
              "    <tr>\n",
              "      <th>count</th>\n",
              "      <td>300.000000</td>\n",
              "      <td>300.000000</td>\n",
              "      <td>300.000000</td>\n",
              "      <td>300.000000</td>\n",
              "      <td>300.000000</td>\n",
              "      <td>300.000000</td>\n",
              "      <td>300.00000</td>\n",
              "      <td>300.000000</td>\n",
              "      <td>300.000000</td>\n",
              "    </tr>\n",
              "    <tr>\n",
              "      <th>mean</th>\n",
              "      <td>23.699333</td>\n",
              "      <td>5.433333</td>\n",
              "      <td>192.338333</td>\n",
              "      <td>104.050000</td>\n",
              "      <td>2945.846667</td>\n",
              "      <td>15.460000</td>\n",
              "      <td>75.93000</td>\n",
              "      <td>1.616667</td>\n",
              "      <td>0.500000</td>\n",
              "    </tr>\n",
              "    <tr>\n",
              "      <th>std</th>\n",
              "      <td>7.963814</td>\n",
              "      <td>1.717183</td>\n",
              "      <td>105.453661</td>\n",
              "      <td>38.959127</td>\n",
              "      <td>849.694403</td>\n",
              "      <td>2.729389</td>\n",
              "      <td>3.67015</td>\n",
              "      <td>0.827853</td>\n",
              "      <td>0.500835</td>\n",
              "    </tr>\n",
              "    <tr>\n",
              "      <th>min</th>\n",
              "      <td>9.000000</td>\n",
              "      <td>3.000000</td>\n",
              "      <td>68.000000</td>\n",
              "      <td>46.000000</td>\n",
              "      <td>1613.000000</td>\n",
              "      <td>8.000000</td>\n",
              "      <td>70.00000</td>\n",
              "      <td>1.000000</td>\n",
              "      <td>0.000000</td>\n",
              "    </tr>\n",
              "    <tr>\n",
              "      <th>25%</th>\n",
              "      <td>17.000000</td>\n",
              "      <td>4.000000</td>\n",
              "      <td>98.000000</td>\n",
              "      <td>75.000000</td>\n",
              "      <td>2212.500000</td>\n",
              "      <td>13.500000</td>\n",
              "      <td>73.00000</td>\n",
              "      <td>1.000000</td>\n",
              "      <td>0.000000</td>\n",
              "    </tr>\n",
              "    <tr>\n",
              "      <th>50%</th>\n",
              "      <td>23.600000</td>\n",
              "      <td>4.000000</td>\n",
              "      <td>140.000000</td>\n",
              "      <td>91.500000</td>\n",
              "      <td>2730.000000</td>\n",
              "      <td>15.400000</td>\n",
              "      <td>76.00000</td>\n",
              "      <td>1.000000</td>\n",
              "      <td>0.500000</td>\n",
              "    </tr>\n",
              "    <tr>\n",
              "      <th>75%</th>\n",
              "      <td>29.925000</td>\n",
              "      <td>8.000000</td>\n",
              "      <td>275.750000</td>\n",
              "      <td>129.000000</td>\n",
              "      <td>3526.250000</td>\n",
              "      <td>17.000000</td>\n",
              "      <td>79.00000</td>\n",
              "      <td>2.000000</td>\n",
              "      <td>1.000000</td>\n",
              "    </tr>\n",
              "    <tr>\n",
              "      <th>max</th>\n",
              "      <td>46.600000</td>\n",
              "      <td>8.000000</td>\n",
              "      <td>455.000000</td>\n",
              "      <td>230.000000</td>\n",
              "      <td>4997.000000</td>\n",
              "      <td>23.500000</td>\n",
              "      <td>82.00000</td>\n",
              "      <td>3.000000</td>\n",
              "      <td>1.000000</td>\n",
              "    </tr>\n",
              "  </tbody>\n",
              "</table>\n",
              "</div>\n",
              "      <button class=\"colab-df-convert\" onclick=\"convertToInteractive('df-5e62b0c6-7ed6-416f-8cea-9cb77e4d6138')\"\n",
              "              title=\"Convert this dataframe to an interactive table.\"\n",
              "              style=\"display:none;\">\n",
              "        \n",
              "  <svg xmlns=\"http://www.w3.org/2000/svg\" height=\"24px\"viewBox=\"0 0 24 24\"\n",
              "       width=\"24px\">\n",
              "    <path d=\"M0 0h24v24H0V0z\" fill=\"none\"/>\n",
              "    <path d=\"M18.56 5.44l.94 2.06.94-2.06 2.06-.94-2.06-.94-.94-2.06-.94 2.06-2.06.94zm-11 1L8.5 8.5l.94-2.06 2.06-.94-2.06-.94L8.5 2.5l-.94 2.06-2.06.94zm10 10l.94 2.06.94-2.06 2.06-.94-2.06-.94-.94-2.06-.94 2.06-2.06.94z\"/><path d=\"M17.41 7.96l-1.37-1.37c-.4-.4-.92-.59-1.43-.59-.52 0-1.04.2-1.43.59L10.3 9.45l-7.72 7.72c-.78.78-.78 2.05 0 2.83L4 21.41c.39.39.9.59 1.41.59.51 0 1.02-.2 1.41-.59l7.78-7.78 2.81-2.81c.8-.78.8-2.07 0-2.86zM5.41 20L4 18.59l7.72-7.72 1.47 1.35L5.41 20z\"/>\n",
              "  </svg>\n",
              "      </button>\n",
              "      \n",
              "  <style>\n",
              "    .colab-df-container {\n",
              "      display:flex;\n",
              "      flex-wrap:wrap;\n",
              "      gap: 12px;\n",
              "    }\n",
              "\n",
              "    .colab-df-convert {\n",
              "      background-color: #E8F0FE;\n",
              "      border: none;\n",
              "      border-radius: 50%;\n",
              "      cursor: pointer;\n",
              "      display: none;\n",
              "      fill: #1967D2;\n",
              "      height: 32px;\n",
              "      padding: 0 0 0 0;\n",
              "      width: 32px;\n",
              "    }\n",
              "\n",
              "    .colab-df-convert:hover {\n",
              "      background-color: #E2EBFA;\n",
              "      box-shadow: 0px 1px 2px rgba(60, 64, 67, 0.3), 0px 1px 3px 1px rgba(60, 64, 67, 0.15);\n",
              "      fill: #174EA6;\n",
              "    }\n",
              "\n",
              "    [theme=dark] .colab-df-convert {\n",
              "      background-color: #3B4455;\n",
              "      fill: #D2E3FC;\n",
              "    }\n",
              "\n",
              "    [theme=dark] .colab-df-convert:hover {\n",
              "      background-color: #434B5C;\n",
              "      box-shadow: 0px 1px 3px 1px rgba(0, 0, 0, 0.15);\n",
              "      filter: drop-shadow(0px 1px 2px rgba(0, 0, 0, 0.3));\n",
              "      fill: #FFFFFF;\n",
              "    }\n",
              "  </style>\n",
              "\n",
              "      <script>\n",
              "        const buttonEl =\n",
              "          document.querySelector('#df-5e62b0c6-7ed6-416f-8cea-9cb77e4d6138 button.colab-df-convert');\n",
              "        buttonEl.style.display =\n",
              "          google.colab.kernel.accessAllowed ? 'block' : 'none';\n",
              "\n",
              "        async function convertToInteractive(key) {\n",
              "          const element = document.querySelector('#df-5e62b0c6-7ed6-416f-8cea-9cb77e4d6138');\n",
              "          const dataTable =\n",
              "            await google.colab.kernel.invokeFunction('convertToInteractive',\n",
              "                                                     [key], {});\n",
              "          if (!dataTable) return;\n",
              "\n",
              "          const docLinkHtml = 'Like what you see? Visit the ' +\n",
              "            '<a target=\"_blank\" href=https://colab.research.google.com/notebooks/data_table.ipynb>data table notebook</a>'\n",
              "            + ' to learn more about interactive tables.';\n",
              "          element.innerHTML = '';\n",
              "          dataTable['output_type'] = 'display_data';\n",
              "          await google.colab.output.renderOutput(dataTable, element);\n",
              "          const docLink = document.createElement('div');\n",
              "          docLink.innerHTML = docLinkHtml;\n",
              "          element.appendChild(docLink);\n",
              "        }\n",
              "      </script>\n",
              "    </div>\n",
              "  </div>\n",
              "  "
            ]
          },
          "metadata": {},
          "execution_count": 8
        }
      ]
    },
    {
      "cell_type": "markdown",
      "source": [
        "**Comment:**\n",
        "\n",
        "The above output gives an important summary of the auto dataset statistics of the numerical variables such as the mean, median (i.e. 50%), minimum, maximum (measures of the central tendency), and standard deviation values. It also shows the Interquartile Range (IQR) using the 25th, and 75th percentile values. \n",
        "\n",
        "Therefore, from the output, we can infer that the average ‘miles per gallon’ is 23.7, the average ‘year’ is about 75.9 years, while the displacement average is 192.3 etc. However, the describe() function only prints the statistical values of quantitative or numerical variables and ignore the categorical column(s). Though, both types of variables can we display using include=’all’ argument, which can be added inside describe() function.\n"
      ],
      "metadata": {
        "id": "i7U5nwejPQ6w"
      }
    },
    {
      "cell_type": "code",
      "source": [
        "print(\"The median of mpg is :\", auto[\"mpg\"].median())"
      ],
      "metadata": {
        "colab": {
          "base_uri": "https://localhost:8080/"
        },
        "id": "ZPL9hdclKl9r",
        "outputId": "aa1400e9-05f7-48f0-8e4c-ee9be188314c"
      },
      "execution_count": 13,
      "outputs": [
        {
          "output_type": "stream",
          "name": "stdout",
          "text": [
            "The median of mpg is : 23.6\n"
          ]
        }
      ]
    },
    {
      "cell_type": "markdown",
      "source": [
        "**Comment:**\n",
        "\n",
        "The Mean of mpg represents the arithmetic average of the data. The line of code above prints the mean of the numerical variables in the mpg data. From the output, we can infer that the average miles per gallon of the fuel consumption of the car is 23.6,"
      ],
      "metadata": {
        "id": "idH4Sq0aZ2eu"
      }
    },
    {
      "cell_type": "markdown",
      "source": [
        "**3. Graded Question:**\n",
        "\n",
        "You will fit the classifiers studied in the lecture using the train data and evaluate the quality\n",
        "of your models using the test data. That is why the whole data set was split into two sub-\n",
        "sets. To this end, you will find in moodle 4 files x_train.csv, x_test.csv, y_train.csv and\n",
        "y_test.csv. \n",
        "\n",
        "Import the four datasets."
      ],
      "metadata": {
        "id": "4b4R4PLVPkl0"
      }
    },
    {
      "cell_type": "code",
      "source": [
        "x_test = pd.read_csv(\"/content/x_test.csv\", index_col = 0)\n",
        "x_train = pd.read_csv(\"/content/x_train.csv\", index_col = 0)\n",
        "y_test = pd.read_csv(\"/content/y_test.csv\", index_col = 0)\n",
        "y_train = pd.read_csv(\"/content/y_train.csv\", index_col = 0)"
      ],
      "metadata": {
        "id": "U6GgVnk7Kl6v"
      },
      "execution_count": 15,
      "outputs": []
    },
    {
      "cell_type": "markdown",
      "source": [
        "**Graded Question:**\n",
        "\n",
        "How many observations are in each dataset?"
      ],
      "metadata": {
        "id": "hUxL7vhNYK1X"
      }
    },
    {
      "cell_type": "code",
      "source": [
        "print(\"There are {} obervations in x_test dataset\" .format(x_test.shape[0]))\n",
        "print(\"There are {} obervations in x_train dataset\" .format(x_train.shape[0]))\n",
        "print(\"There are {} obervations in y_test dataset\" .format(y_test.shape[0]))\n",
        "print(\"There are {} obervations in y_train dataset\" .format(y_train.shape[0]))\n"
      ],
      "metadata": {
        "colab": {
          "base_uri": "https://localhost:8080/"
        },
        "id": "MCS8szlSMvo1",
        "outputId": "366221c1-f1a7-46ce-fd30-124bcbfdcc05"
      },
      "execution_count": 19,
      "outputs": [
        {
          "output_type": "stream",
          "name": "stdout",
          "text": [
            "There are 60 obervations in x_test dataset\n",
            "There are 240 obervations in x_train dataset\n",
            "There are 60 obervations in y_test dataset\n",
            "There are 240 obervations in y_train dataset\n"
          ]
        }
      ]
    },
    {
      "cell_type": "markdown",
      "source": [
        "**Comment:**\n",
        "\n",
        "As seen above, x_test, x_train, y_test, y_train have 60, 240, 60 and 240 observations respectively."
      ],
      "metadata": {
        "id": "M7A1CjdiT703"
      }
    },
    {
      "cell_type": "markdown",
      "source": [
        "# **2.2 Logistic regression**"
      ],
      "metadata": {
        "id": "kXS_lhc4U3um"
      }
    },
    {
      "cell_type": "code",
      "source": [],
      "metadata": {
        "id": "VcsR4sWET6mv"
      },
      "execution_count": null,
      "outputs": []
    },
    {
      "cell_type": "code",
      "source": [],
      "metadata": {
        "id": "HvM01gZbT6j5"
      },
      "execution_count": null,
      "outputs": []
    },
    {
      "cell_type": "markdown",
      "source": [
        "# **2.3 K-Nearest Neighbors**"
      ],
      "metadata": {
        "id": "dcQJcPBVZVJm"
      }
    },
    {
      "cell_type": "markdown",
      "source": [
        "You can build a K-Nearest Neighbors model using the ***KNeighborsClassifier()*** function, which is part of the neighbors submodule of (sklearn). For instance, to train KNN with K = 1 classifier in training sets *y_train* and *x_train* and then make predictions with the test sets *y_test* and *x_test* run the following commands :"
      ],
      "metadata": {
        "id": "vwlKsf7dZZOO"
      }
    },
    {
      "cell_type": "markdown",
      "source": [
        "**Import KNN library from sklearn**"
      ],
      "metadata": {
        "id": "4vugWXpQbKds"
      }
    },
    {
      "cell_type": "code",
      "source": [
        "from sklearn.neighbors import KNeighborsClassifier"
      ],
      "metadata": {
        "id": "GGBCXBGhZYaP"
      },
      "execution_count": 20,
      "outputs": []
    },
    {
      "cell_type": "markdown",
      "source": [
        "**KNN Classification model when k=1**"
      ],
      "metadata": {
        "id": "1xh2ppVClN48"
      }
    },
    {
      "cell_type": "code",
      "source": [
        "#define model when k=1\n",
        "neigh = KNeighborsClassifier(n_neighbors=1)\n",
        "\n",
        "#fit model\n",
        "neigh.fit(x_train, np.ravel(y_train))\n",
        "\n",
        "#make prediction on x_test dataframe\n",
        "yhat_knn = neigh.predict(x_test)"
      ],
      "metadata": {
        "id": "IQfRqX_LT6hE"
      },
      "execution_count": 21,
      "outputs": []
    },
    {
      "cell_type": "code",
      "source": [
        "#Import scikit-learn metrics module for accuracy calculation\n",
        "from sklearn import metrics\n",
        "\n",
        "# Model Accuracy, how often is the classifier correct?\n",
        "print(\"Accuracy:\",metrics.accuracy_score(y_test, yhat_knn))"
      ],
      "metadata": {
        "colab": {
          "base_uri": "https://localhost:8080/"
        },
        "id": "HXMpyhY8eGG6",
        "outputId": "ad96089d-ca16-4eff-b789-71817364dcc6"
      },
      "execution_count": 25,
      "outputs": [
        {
          "output_type": "stream",
          "name": "stdout",
          "text": [
            "Accuracy: 0.8666666666666667\n"
          ]
        }
      ]
    },
    {
      "cell_type": "code",
      "source": [
        "from sklearn.metrics import classification_report, confusion_matrix, accuracy_score\n",
        "\n",
        "result = confusion_matrix(y_test, yhat_knn)\n",
        "print(\"Confusion Matrix:\")\n",
        "\n",
        "print(result)\n",
        "result1 = classification_report(y_test, yhat_knn)\n",
        "\n",
        "print(\"Classification Report:\",)\n",
        "print (result1)\n",
        "result2 = accuracy_score(y_test,yhat_knn)\n",
        "print(\"Accuracy:\", round(result2,4))"
      ],
      "metadata": {
        "colab": {
          "base_uri": "https://localhost:8080/"
        },
        "id": "LIfEXekKfukw",
        "outputId": "55a10596-b0a5-4f14-e236-1e47a75708f4"
      },
      "execution_count": 37,
      "outputs": [
        {
          "output_type": "stream",
          "name": "stdout",
          "text": [
            "Confusion Matrix:\n",
            "[[29  5]\n",
            " [ 3 23]]\n",
            "Classification Report:\n",
            "              precision    recall  f1-score   support\n",
            "\n",
            "           0       0.91      0.85      0.88        34\n",
            "           1       0.82      0.88      0.85        26\n",
            "\n",
            "    accuracy                           0.87        60\n",
            "   macro avg       0.86      0.87      0.87        60\n",
            "weighted avg       0.87      0.87      0.87        60\n",
            "\n",
            "Accuracy: 0.8667\n"
          ]
        }
      ]
    },
    {
      "cell_type": "markdown",
      "source": [
        "**Graded Question:**\n",
        "\n",
        "Fit a KNN classifier for the following values of K in th element of {1; 3; 5; 17; 51; 75; 101} and calculate the test error. \n",
        "\n",
        "What value of K would you choose? For this value of K calculate the performance indicators you calculated in the previous section."
      ],
      "metadata": {
        "id": "tFJd0ZsZbzGh"
      }
    },
    {
      "cell_type": "markdown",
      "source": [
        "**k_values = [1, 3, 5, 17, 51, 75, 101]**"
      ],
      "metadata": {
        "id": "cOJEhVukjxjG"
      }
    },
    {
      "cell_type": "markdown",
      "source": [
        "**KNN Classification model when k=3**"
      ],
      "metadata": {
        "id": "M0FU-CP_itkv"
      }
    },
    {
      "cell_type": "code",
      "source": [
        "# model with k=3\n",
        "knn_3 = KNeighborsClassifier(n_neighbors=3)\n",
        "\n",
        "# fit the model to the training set\n",
        "knn_3.fit(x_train, np.ravel(y_train))\n",
        "\n",
        "# predict on the test-set\n",
        "y_pred_3 = knn_3.predict(x_test)\n",
        "\n",
        "print('Model accuracy score with k=3 : {0:0.4f}'. format(accuracy_score(y_test, y_pred_3)))"
      ],
      "metadata": {
        "id": "Z14a4wTFT6bR",
        "colab": {
          "base_uri": "https://localhost:8080/"
        },
        "outputId": "00de3a23-c789-49b7-b19c-2535588c28d0"
      },
      "execution_count": 31,
      "outputs": [
        {
          "output_type": "stream",
          "name": "stdout",
          "text": [
            "Model accuracy score with k=3 : 0.8833\n"
          ]
        }
      ]
    },
    {
      "cell_type": "markdown",
      "source": [
        "**KNN Classification model when k=5**"
      ],
      "metadata": {
        "id": "jdPlcyaqjH2G"
      }
    },
    {
      "cell_type": "code",
      "source": [
        "# model with k=5\n",
        "knn_5 = KNeighborsClassifier(n_neighbors=5)\n",
        "\n",
        "# fit the model to the training set\n",
        "knn_5.fit(x_train, np.ravel(y_train))\n",
        "\n",
        "# predict on the test-set\n",
        "y_pred_5 = knn_5.predict(x_test)\n",
        "\n",
        "print('Model accuracy score with k=5 : {0:0.4f}'. format(accuracy_score(y_test, y_pred_5)))"
      ],
      "metadata": {
        "id": "hp3YtCSmT6Yq",
        "colab": {
          "base_uri": "https://localhost:8080/"
        },
        "outputId": "63b3312d-f202-4bc3-c05c-5ab4f1c0c72b"
      },
      "execution_count": 32,
      "outputs": [
        {
          "output_type": "stream",
          "name": "stdout",
          "text": [
            "Model accuracy score with k=5 : 0.8333\n"
          ]
        }
      ]
    },
    {
      "cell_type": "markdown",
      "source": [
        "**KNN Classification model when k=17**"
      ],
      "metadata": {
        "id": "WFEjpGtnjh9m"
      }
    },
    {
      "cell_type": "code",
      "source": [
        "# model with k=17\n",
        "knn_17 = KNeighborsClassifier(n_neighbors=17)\n",
        "\n",
        "# fit the model to the training set\n",
        "knn_17.fit(x_train, np.ravel(y_train))\n",
        "\n",
        "# predict on the test-set\n",
        "y_pred_17 = knn_17.predict(x_test)\n",
        "\n",
        "print('Model accuracy score with k=17 : {0:0.4f}'. format(accuracy_score(y_test, y_pred_17)))"
      ],
      "metadata": {
        "colab": {
          "base_uri": "https://localhost:8080/"
        },
        "id": "d_bbAI9DjUQY",
        "outputId": "08af66d6-5905-4722-9ad1-6f32599ffd7a"
      },
      "execution_count": 33,
      "outputs": [
        {
          "output_type": "stream",
          "name": "stdout",
          "text": [
            "Model accuracy score with k=17 : 0.8500\n"
          ]
        }
      ]
    },
    {
      "cell_type": "markdown",
      "source": [
        "**KNN Classification model when k=51**"
      ],
      "metadata": {
        "id": "ysK4UHfZj47g"
      }
    },
    {
      "cell_type": "code",
      "source": [
        "# model with  k=51\n",
        "knn_51 = KNeighborsClassifier(n_neighbors=51)\n",
        "\n",
        "# fit the model to the training set\n",
        "knn_51.fit(x_train, np.ravel(y_train))\n",
        "\n",
        "# predict on the test-set\n",
        "y_pred_51 = knn_51.predict(x_test)\n",
        "\n",
        "print('Model accuracy score with k=51 : {0:0.4f}'. format(accuracy_score(y_test, y_pred_51)))"
      ],
      "metadata": {
        "colab": {
          "base_uri": "https://localhost:8080/"
        },
        "id": "5x0YXTWajUNw",
        "outputId": "079a62ee-e4ec-4c81-a697-e58b69600b2d"
      },
      "execution_count": 34,
      "outputs": [
        {
          "output_type": "stream",
          "name": "stdout",
          "text": [
            "Model accuracy score with k=51 : 0.8500\n"
          ]
        }
      ]
    },
    {
      "cell_type": "markdown",
      "source": [
        "**KNN Classification model when k=75**"
      ],
      "metadata": {
        "id": "K-6QdCH4kR2N"
      }
    },
    {
      "cell_type": "code",
      "source": [
        "# model with  k=75\n",
        "knn_75 = KNeighborsClassifier(n_neighbors=75)\n",
        "\n",
        "# fit the model to the training set\n",
        "knn_75.fit(x_train, np.ravel(y_train))\n",
        "\n",
        "# predict on the test-set\n",
        "y_pred_75 = knn_75.predict(x_test)\n",
        "\n",
        "print('Model accuracy score with k=75 : {0:0.4f}'. format(accuracy_score(y_test, y_pred_75)))"
      ],
      "metadata": {
        "colab": {
          "base_uri": "https://localhost:8080/"
        },
        "id": "_fNTnRddjUK-",
        "outputId": "d930eb5f-8254-4440-d104-03933ae3b76f"
      },
      "execution_count": 35,
      "outputs": [
        {
          "output_type": "stream",
          "name": "stdout",
          "text": [
            "Model accuracy score with k=75 : 0.8333\n"
          ]
        }
      ]
    },
    {
      "cell_type": "markdown",
      "source": [
        "**KNN Classification model when k=101**"
      ],
      "metadata": {
        "id": "Lvbg-i_Wkm0F"
      }
    },
    {
      "cell_type": "code",
      "source": [
        "# model with  k=101\n",
        "knn_101 = KNeighborsClassifier(n_neighbors=101)\n",
        "\n",
        "# fit the model to the training set\n",
        "knn_101.fit(x_train, np.ravel(y_train))\n",
        "\n",
        "# predict on the test-set\n",
        "y_pred_101 = knn_101.predict(x_test)\n",
        "\n",
        "print('Model accuracy score with k=101 : {0:0.4f}'. format(accuracy_score(y_test, y_pred_101)))"
      ],
      "metadata": {
        "colab": {
          "base_uri": "https://localhost:8080/"
        },
        "id": "9XOr0GmMkqBE",
        "outputId": "f3156a24-de88-4fa8-cdf1-75075e3c947e"
      },
      "execution_count": 36,
      "outputs": [
        {
          "output_type": "stream",
          "name": "stdout",
          "text": [
            "Model accuracy score with k=101 : 0.8333\n"
          ]
        }
      ]
    },
    {
      "cell_type": "markdown",
      "source": [
        "**Comment:**\n",
        "\n",
        "As seen from the above k-NN values, the model accuracy score with **k=1** is **0.8667** while when **k = 3, 5, 17, 51, 75 and 101**, it returns an accuracy scores of **0.8667, 0.8833, 0.8333, 0.8500, 0.8500, 0.8333, and 0.8333** respectively.\n",
        "\n",
        "Thus, based on the above analysis, we can conclude that the model accuracy is good with k = 3 being the best performing model (88.33%). Similarly, the boundary is highly linear and the best values for k should be relatively SMALL to avoid overfitting."
      ],
      "metadata": {
        "id": "7YQ2g76rlbt7"
      }
    },
    {
      "cell_type": "markdown",
      "source": [
        "# **2.4 Discriminant Analysis**"
      ],
      "metadata": {
        "id": "iVOEUo2EprE-"
      }
    },
    {
      "cell_type": "markdown",
      "source": [
        "The *LinearDiscriminantAnalysis()* and the *QuadraticDiscriminantAnalysis()* functions from the class sklearn.discriminant_analysis allow to perform Linear and Quadratic discriminant Analysis respectively. For instance, to perform LDA on the train set and predict the target variable on the test set you can run the following code."
      ],
      "metadata": {
        "id": "6n7IyXlnpz74"
      }
    },
    {
      "cell_type": "markdown",
      "source": [
        "**Import Discriminant Analysis library from sklearn**"
      ],
      "metadata": {
        "id": "7HCrd9pgqHVD"
      }
    },
    {
      "cell_type": "code",
      "source": [
        "from sklearn.discriminant_analysis import LinearDiscriminantAnalysis"
      ],
      "metadata": {
        "id": "25tym9pWkp98"
      },
      "execution_count": 38,
      "outputs": []
    },
    {
      "cell_type": "code",
      "source": [
        "#define model\n",
        "lda = LinearDiscriminantAnalysis()\n",
        "\n",
        "#fit model\n",
        "model_lda = lda.fit(x_train, np.ravel(y_train))\n",
        "\n",
        "#make prediction\n",
        "yhat_lda = model_lda.predict(x_test)"
      ],
      "metadata": {
        "id": "VontVXC7kp7N"
      },
      "execution_count": 39,
      "outputs": []
    },
    {
      "cell_type": "code",
      "source": [
        "print(model_lda.priors_)"
      ],
      "metadata": {
        "colab": {
          "base_uri": "https://localhost:8080/"
        },
        "id": "hS8M4cyDjUIG",
        "outputId": "717cf673-74e5-4ae8-991f-b8a2b36d00b1"
      },
      "execution_count": 40,
      "outputs": [
        {
          "output_type": "stream",
          "name": "stdout",
          "text": [
            "[0.48333333 0.51666667]\n"
          ]
        }
      ]
    },
    {
      "cell_type": "code",
      "source": [
        "print(model_lda.means_)"
      ],
      "metadata": {
        "colab": {
          "base_uri": "https://localhost:8080/"
        },
        "id": "fBQIm-FpjUFe",
        "outputId": "07011771-0ee4-475e-87d8-51cc55f5c501"
      },
      "execution_count": 41,
      "outputs": [
        {
          "output_type": "stream",
          "name": "stdout",
          "text": [
            "[[   6.74137931  270.73275862  129.24137931 3585.03448276]\n",
            " [   4.15322581  112.25403226   77.85483871 2302.2016129 ]]\n"
          ]
        }
      ]
    },
    {
      "cell_type": "markdown",
      "source": [
        "**Graded Question:**\n",
        "\n",
        "1 - Interpret the prior probabilities as well as the group means."
      ],
      "metadata": {
        "id": "QUAOSXeyrCFE"
      }
    },
    {
      "cell_type": "markdown",
      "source": [
        "**Comment:**\n",
        "\n",
        "As seen above, the prior probabilities of group represent the proportions of each features in the training set. Therefore, 51.7% of all observations in the training set were ........\n",
        "\n",
        "\n",
        "The group means help to display the mean values for each predictor variable for each car."
      ],
      "metadata": {
        "id": "o5CTk-CArwYY"
      }
    },
    {
      "cell_type": "markdown",
      "source": [
        "**Graded Question:**\n",
        "\n",
        "2- What is the test error of the model obtained with the LDA classifier ?"
      ],
      "metadata": {
        "id": "7co_Sw1Ys-hD"
      }
    },
    {
      "cell_type": "code",
      "source": [],
      "metadata": {
        "id": "t-LvWILdjUCl"
      },
      "execution_count": null,
      "outputs": []
    },
    {
      "cell_type": "code",
      "source": [],
      "metadata": {
        "id": "_YsLoU23jUAK"
      },
      "execution_count": null,
      "outputs": []
    },
    {
      "cell_type": "code",
      "source": [],
      "metadata": {
        "id": "NGLBPdn-jT9V"
      },
      "execution_count": null,
      "outputs": []
    },
    {
      "cell_type": "code",
      "source": [],
      "metadata": {
        "id": "D4Rmt80xjT6l"
      },
      "execution_count": null,
      "outputs": []
    }
  ]
}